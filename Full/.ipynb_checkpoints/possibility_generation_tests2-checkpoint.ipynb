{
 "cells": [
  {
   "cell_type": "code",
   "execution_count": null,
   "metadata": {
    "id": "RW_N3cMkyGem"
   },
   "outputs": [],
   "source": [
    "import pandas as pd \n",
    "import numpy as np \n",
    "import re\n",
    "\n",
    "df = pd.read_csv('https://raw.githubusercontent.com/gokulsrin/PossibilityGeneration/main/Full/IndDiffGenerationFull.csv')"
   ]
  },
  {
   "cell_type": "code",
   "execution_count": null,
   "metadata": {
    "id": "Qu_nex14yGem"
   },
   "outputs": [],
   "source": [
    "#the experiment i want to run is as such: I want to look at all of the first possibilities generated, cluster them, and see whether the clusters correspond to beck scores\n",
    "g = df.groupby(\"completionCode\")\n",
    "\n",
    "#array pos containing all possibiilties\n",
    "pos = []\n",
    "#corresponding ids array tracking the person it came from such that the id of pos[3] is ids[3]\n",
    "ids = []\n",
    "\n",
    "for id, group in g:\n",
    "  rows = group.iloc[0:60, 16]\n",
    "  vigns = np.split(rows, 10)\n",
    "  for vign in vigns:\n",
    "    vign = list(vign)\n",
    "    if not pd.isna(vign[0]):\n",
    "      pos.append(vign[0])\n",
    "      ids.append(id)"
   ]
  },
  {
   "cell_type": "code",
   "execution_count": null,
   "metadata": {
    "id": "SOg3u9a_o5_I"
   },
   "outputs": [],
   "source": [
    "bdi_options = {\"Sadness\": [\"0 -- I do not feel sad.\", \"1 -- I feel sad much of the time.\", \"2 -- I am sad all the time.\", \"3 -- I am so sad or unhappy I can't stand it.\"],\n",
    "\n",
    "    \"Pessimism\": [\"0 -- I am not discouraged about my future.\", \"1 -- I feel more discouraged about my future than I used to be.\",\n",
    "        \"2 -- I do not expect things to work out for me.\", \"3 -- I feel my future is hopeless and will only get worse.\"],\n",
    "\n",
    "    \"PastFailure\": [\"0 -- I do not feel like a failure.\", \"1 -- I feel more discouraged about my future than I used to\",\n",
    "        \"2 -- As I look back I see a lot of failures.\", \"3 -- I feel I am a total failure as a person\"],\n",
    "\n",
    "    \"LossofPleasure\": [\"0 -- I get as much pleasure as I ever did from the things I enjoy.\", \"1 -- I don't enjoy things as much as I used to.\",\n",
    "        \"2 -- I get very little pleasure from the things I used to enjoy.\", \"3 -- I can't get any pleasure from the things I used to enjoy.\"],\n",
    "\n",
    "    \"GuiltyFeelings\": [\"0 -- I don't feel particularly guilty.\", \"1 -- I feel guilty over many things I have done or should have done.\",\n",
    "        \"2 -- I feel quite guilty most of the time.\", \"3 -- I feel guilty all of the time.\"],\n",
    "\n",
    "    \"PunishmentFeelings\": [\"0 -- I don't feel I am being punished.\", \"1 -- I feel I may be punished.\",\n",
    "        \"2 -- I expect to be punished.\", \" 3 -- I feel I am being punished.\"],\n",
    "\n",
    "    \"SelfDislike\": [\"0 -- I feel the same about myself as ever.\", \"1 -- I have lost confidence in myself.\",\n",
    "        \"2 -- I am disappointed in myself.\", \"3 -- I dislike myself. \"],\n",
    "\n",
    "    \"SelfCriticalness\": [\"0 -- I don't criticize or blame myself more than usual.\", \"1 -- I am more critical of myself than I used to be.\",\n",
    "    \"2 -- I criticize myself for all of my faults.\", \"3 -- I blame myself for everything bad that happens.\"],\n",
    "\n",
    "    \"Crying\": [\"0 -- I don't cry anymore than I used to.\", \"1 -- I cry more than I used to.\",\n",
    "        \"2 -- I cry over every little thing.\", \"3 -- I feel like crying but I can't.\"],\n",
    "\n",
    "    \"Agitation\": [\"0 -- I am no more restless or wound up than usual.\", \"1 -- I feel more restless or wound up than usual.\",\n",
    "        \"2 -- I am so restless or agitated that it's hard to stay still.\", \"3 -- I am so restless or agitated that I have to keep moving or doing something.\"],\n",
    "\n",
    "    \"LossofInterest\": [\"0 -- I have not lost interest in other people or activities.\", \"1 -- I am less interested in other people or things than before.\",\n",
    "        \"2 -- I have lost most of my interest in other people or things.\", \"3 -- It's hard to get interested in anything. \"],\n",
    "\n",
    "    \"Indecisiveness\": [\"0 -- I make decisions about as well as ever.\", \"1 -- I find it more difficult to make decisions than usual.\",\n",
    "        \"2 -- have much greater difficulty in making decisions than I used to.\", \"3 -- I have trouble making any decisions.\"],\n",
    "\n",
    "    \"Worthlessness\": [\"0 -- I do not feel I am worthless.\", \"1 -- I don't consider myself as worthwhile and useful as I used to.\", \n",
    "        \"2 -- I feel more worthless as compared to other people.\", \"3 -- I feel utterly worthless.\"],\n",
    "\n",
    "    \"LossofEnergy\": [\"0 -- I have as much energy as ever.\", \"1 -- I have less energy than I used to have.\",\n",
    "        \"2 -- I don't have enough energy to do very much.\", \"3 -- I don't have enough energy to do anything. \"],\n",
    "\n",
    "    \"ChangesinSleepingPattern\": [\"0 -- I have not experienced any change in my sleeping pattern.\", \"1a -- I sleep somewhat more than usual.\",\n",
    "        \"1b -- I sleep somewhat less than usual.\", \"2a -- I sleep a lot more than usual.\", \"2b -- I sleep a lot less than usual.\",\n",
    "        \"3a -- I sleep most of the day.\", \"3b -- I wake up 1-2 hours early and can't get back to sleep.\"],\n",
    "\n",
    "    \"Irratability\": [\"0 -- I am no more irritable than usual.\", \"1 -- I am more irritable than usual.\",\n",
    "        \"2 -- I am much more irritable than usual.\", \"3 -- I am irritable all the time.\"],\n",
    "\n",
    "    \"ChangesinAppetite\": [\"0 -- I have not experienced any change in my appetite.\", \"1a -- My appetite is somewhat less than usual.\",\n",
    "        \"1b -- My appetite is somewhat greater than usual.\", \"2a -- My appetite is much less than before.\",\n",
    "        \"2b -- My appetite is much greater than usual.\", \"3a -- I have no appetite at all.\", \"3b -- I crave food all the time.\"],\n",
    "\n",
    "    \"ConcentrationDifficulty\": [\"0 -- I can concentrate as well as ever.\", \"1 -- I can't concentrate as well as usual.\",\n",
    "        \"2 -- It's hard to keep my mind on anything for very long.\", \"3 -- I find I can't concentrate on anything.\"],\n",
    "\n",
    "    \"TirednessorFatigue\": [\"0 -- I am no more tired or fatigued than usual.\", \"1 -- I get more tired or fatigued more easily than usual.\",\n",
    "        \"2 -- I am too tired or fatigued to do a lot of the things I used to do.\", \"3 -- I am too tired or fatigued to do most of the things I used to do.\"],\n",
    "\n",
    "    \"LossofInterestinSex\": [\"0 -- I have not noticed any recent change in my interest in sex.\", \"1 -- I am less interested in sex than I used to be.\",\n",
    "        \"2 -- I am much less interested in sex now.\", \"3 -- I have lost interest in sex completely.\"]\n",
    "}\n",
    "\n",
    "#make a dictionary that maps scores to specific bdi options for efficiency later on (e.g., {1: \"I feel sad all the time\"})\n",
    "bdi_dic = {}\n",
    "for key in bdi_options:\n",
    "    options = bdi_options.get(key)\n",
    "    for option in options:\n",
    "        ops = option.split(\"--\")\n",
    "        score = re.sub(\"[^0-9]\", \"\", ops[0])\n",
    "        text = ops[1].strip()\n",
    "        bdi_dic[text] = score\n",
    "#make dic for bai scoring\n",
    "bai_dic = {\"Not at all.\":0, \"Mildly but it didn't bother me much.\": 1, \"Moderately - it wasn't pleasant at time.\": 2, \"Severely - it bothered me a lot.\":3}\n"
   ]
  },
  {
   "cell_type": "code",
   "execution_count": null,
   "metadata": {
    "id": "pa-3om9oMs9W"
   },
   "outputs": [],
   "source": [
    "participants = df.groupby(\"completionCode\")\n",
    "scores = {}\n",
    "#calc average sentiemnt score for each participant\n",
    "for id, info in participants:\n",
    "  #init certiain things \n",
    "  scores[id] = {}\n",
    "  scores.get(id)['bdi'] = 0 \n",
    "  scores.get(id)['bai'] = 0 \n",
    "  for response in info['response']:\n",
    "    #if it is bdi response\n",
    "    if bdi_dic.get(response) != None:\n",
    "      scores.get(id)['bdi'] = scores.get(id).get('bdi') + int(bdi_dic.get(response))\n",
    "    #if bai response\n",
    "    if bai_dic.get(response) != None:\n",
    "      scores.get(id)['bai'] = scores.get(id).get('bai') +int(bai_dic.get(response))\n",
    "  scores.get(id)['beck'] = scores.get(id).get('bai') + scores.get(id).get('bdi')"
   ]
  },
  {
   "cell_type": "code",
   "execution_count": null,
   "metadata": {
    "id": "idc6UxgnuZXb"
   },
   "outputs": [],
   "source": [
    "# cleaning out some of the folks who have ridiculous and innac. beck scores\n",
    "toremove = set()\n",
    "for p in scores:\n",
    "    if scores.get(p).get('beck') > 55:\n",
    "      toremove.add(p)\n",
    "i = 0\n",
    "while i < len(ids):\n",
    "  if ids[i] in toremove:\n",
    "    pos.pop(i)\n",
    "    ids.pop(i) \n",
    "    i -= 1\n",
    "  i += 1"
   ]
  },
  {
   "cell_type": "code",
   "execution_count": null,
   "metadata": {
    "colab": {
     "base_uri": "https://localhost:8080/"
    },
    "id": "jTXvqoAGcucj",
    "outputId": "524a65c6-4ff5-44e4-c95e-279b4ef0bcc4"
   },
   "outputs": [
    {
     "name": "stdout",
     "output_type": "stream",
     "text": [
      "Collecting git+https://github.com/ContextLab/davos.git\n",
      "  Cloning https://github.com/ContextLab/davos.git to /tmp/pip-req-build-71g2di_2\n",
      "  Running command git clone -q https://github.com/ContextLab/davos.git /tmp/pip-req-build-71g2di_2\n",
      "  Installing build dependencies ... \u001b[?25l\u001b[?25hdone\n",
      "  Getting requirements to build wheel ... \u001b[?25l\u001b[?25hdone\n",
      "    Preparing wheel metadata ... \u001b[?25l\u001b[?25hdone\n",
      "Requirement already satisfied: packaging in /usr/local/lib/python3.7/dist-packages (from davos==0.0.1) (21.0)\n",
      "Requirement already satisfied: setuptools in /usr/local/lib/python3.7/dist-packages (from davos==0.0.1) (57.4.0)\n",
      "Requirement already satisfied: pyparsing>=2.0.2 in /usr/local/lib/python3.7/dist-packages (from packaging->davos==0.0.1) (2.4.7)\n",
      "Building wheels for collected packages: davos\n",
      "  Building wheel for davos (PEP 517) ... \u001b[?25l\u001b[?25hdone\n",
      "  Created wheel for davos: filename=davos-0.0.1-py3-none-any.whl size=76438 sha256=4c9d6ee362c0ed8c1b49effdb035f2ccfacbd8254f3975575bed8b1807e06856\n",
      "  Stored in directory: /tmp/pip-ephem-wheel-cache-4invmypl/wheels/91/25/62/ff3e77f0c7b0be985afa1841e980aa00ba971e687beb29eb88\n",
      "Successfully built davos\n",
      "Installing collected packages: davos\n",
      "Successfully installed davos-0.0.1\n"
     ]
    }
   ],
   "source": [
    "!pip install git+https://github.com/ContextLab/davos.git\n",
    "import davos"
   ]
  },
  {
   "cell_type": "code",
   "execution_count": null,
   "metadata": {
    "colab": {
     "base_uri": "https://localhost:8080/"
    },
    "id": "x98PaOync1bC",
    "outputId": "61f406e4-9484-42cf-b9b0-6da80b2a13ad"
   },
   "outputs": [
    {
     "name": "stdout",
     "output_type": "stream",
     "text": [
      "Collecting hypertools\n",
      "  Downloading hypertools-0.7.0-py3-none-any.whl (59 kB)\n",
      "\u001b[K     |████████████████████████████████| 59 kB 2.7 MB/s \n",
      "\u001b[?25hRequirement already satisfied: scipy>=1.0.0 in /usr/local/lib/python3.7/dist-packages (from hypertools) (1.4.1)\n",
      "Requirement already satisfied: six in /usr/local/lib/python3.7/dist-packages (from hypertools) (1.15.0)\n",
      "Requirement already satisfied: requests in /usr/local/lib/python3.7/dist-packages (from hypertools) (2.23.0)\n",
      "Requirement already satisfied: matplotlib>=1.5.1 in /usr/local/lib/python3.7/dist-packages (from hypertools) (3.2.2)\n",
      "Requirement already satisfied: future in /usr/local/lib/python3.7/dist-packages (from hypertools) (0.16.0)\n",
      "Collecting umap-learn>=0.4.6\n",
      "  Downloading umap-learn-0.5.2.tar.gz (86 kB)\n",
      "\u001b[K     |████████████████████████████████| 86 kB 4.0 MB/s \n",
      "\u001b[?25hRequirement already satisfied: seaborn>=0.8.1 in /usr/local/lib/python3.7/dist-packages (from hypertools) (0.11.2)\n",
      "Collecting PPCA>=0.0.2\n",
      "  Downloading ppca-0.0.4-py3-none-any.whl (6.7 kB)\n",
      "Requirement already satisfied: pandas>=0.18.0 in /usr/local/lib/python3.7/dist-packages (from hypertools) (1.1.5)\n",
      "Requirement already satisfied: numpy>=1.10.4 in /usr/local/lib/python3.7/dist-packages (from hypertools) (1.19.5)\n",
      "Requirement already satisfied: scikit-learn!=0.22,<0.24,>=0.19.1 in /usr/local/lib/python3.7/dist-packages (from hypertools) (0.22.2.post1)\n",
      "Collecting deepdish\n",
      "  Downloading deepdish-0.3.7-py2.py3-none-any.whl (37 kB)\n",
      "Requirement already satisfied: kiwisolver>=1.0.1 in /usr/local/lib/python3.7/dist-packages (from matplotlib>=1.5.1->hypertools) (1.3.2)\n",
      "Requirement already satisfied: python-dateutil>=2.1 in /usr/local/lib/python3.7/dist-packages (from matplotlib>=1.5.1->hypertools) (2.8.2)\n",
      "Requirement already satisfied: pyparsing!=2.0.4,!=2.1.2,!=2.1.6,>=2.0.1 in /usr/local/lib/python3.7/dist-packages (from matplotlib>=1.5.1->hypertools) (2.4.7)\n",
      "Requirement already satisfied: cycler>=0.10 in /usr/local/lib/python3.7/dist-packages (from matplotlib>=1.5.1->hypertools) (0.10.0)\n",
      "Requirement already satisfied: pytz>=2017.2 in /usr/local/lib/python3.7/dist-packages (from pandas>=0.18.0->hypertools) (2018.9)\n",
      "Requirement already satisfied: joblib>=0.11 in /usr/local/lib/python3.7/dist-packages (from scikit-learn!=0.22,<0.24,>=0.19.1->hypertools) (1.0.1)\n",
      "Requirement already satisfied: numba>=0.49 in /usr/local/lib/python3.7/dist-packages (from umap-learn>=0.4.6->hypertools) (0.51.2)\n",
      "Collecting pynndescent>=0.5\n",
      "  Downloading pynndescent-0.5.5.tar.gz (1.1 MB)\n",
      "\u001b[K     |████████████████████████████████| 1.1 MB 30.7 MB/s \n",
      "\u001b[?25hRequirement already satisfied: tqdm in /usr/local/lib/python3.7/dist-packages (from umap-learn>=0.4.6->hypertools) (4.62.3)\n",
      "Requirement already satisfied: setuptools in /usr/local/lib/python3.7/dist-packages (from numba>=0.49->umap-learn>=0.4.6->hypertools) (57.4.0)\n",
      "Requirement already satisfied: llvmlite<0.35,>=0.34.0.dev0 in /usr/local/lib/python3.7/dist-packages (from numba>=0.49->umap-learn>=0.4.6->hypertools) (0.34.0)\n",
      "Requirement already satisfied: tables in /usr/local/lib/python3.7/dist-packages (from deepdish->hypertools) (3.4.4)\n",
      "Requirement already satisfied: idna<3,>=2.5 in /usr/local/lib/python3.7/dist-packages (from requests->hypertools) (2.10)\n",
      "Requirement already satisfied: certifi>=2017.4.17 in /usr/local/lib/python3.7/dist-packages (from requests->hypertools) (2021.5.30)\n",
      "Requirement already satisfied: urllib3!=1.25.0,!=1.25.1,<1.26,>=1.21.1 in /usr/local/lib/python3.7/dist-packages (from requests->hypertools) (1.24.3)\n",
      "Requirement already satisfied: chardet<4,>=3.0.2 in /usr/local/lib/python3.7/dist-packages (from requests->hypertools) (3.0.4)\n",
      "Requirement already satisfied: numexpr>=2.5.2 in /usr/local/lib/python3.7/dist-packages (from tables->deepdish->hypertools) (2.7.3)\n",
      "Building wheels for collected packages: umap-learn, pynndescent\n",
      "  Building wheel for umap-learn (setup.py) ... \u001b[?25l\u001b[?25hdone\n",
      "  Created wheel for umap-learn: filename=umap_learn-0.5.2-py3-none-any.whl size=82709 sha256=be6997e499fc6515b6206a054a8e467c4f56c6d4ee34cbdd68e1c4a1dc25c1f3\n",
      "  Stored in directory: /root/.cache/pip/wheels/84/1b/c6/aaf68a748122632967cef4dffef68224eb16798b6793257d82\n",
      "  Building wheel for pynndescent (setup.py) ... \u001b[?25l\u001b[?25hdone\n",
      "  Created wheel for pynndescent: filename=pynndescent-0.5.5-py3-none-any.whl size=52603 sha256=4365bca83f2f377f1533c094f0daea200fdbfba3d2b1e5705988a7d8c6348064\n",
      "  Stored in directory: /root/.cache/pip/wheels/af/e9/33/04db1436df0757c42fda8ea6796d7a8586e23c85fac355f476\n",
      "Successfully built umap-learn pynndescent\n",
      "Installing collected packages: pynndescent, umap-learn, PPCA, deepdish, hypertools\n",
      "Successfully installed PPCA-0.0.4 deepdish-0.3.7 hypertools-0.7.0 pynndescent-0.5.5 umap-learn-0.5.2\n"
     ]
    }
   ],
   "source": [
    "smuggle numpy as np\n",
    "smuggle pandas as pd\n",
    "smuggle hypertools as hyp\n",
    "\n",
    "import os"
   ]
  },
  {
   "cell_type": "code",
   "execution_count": null,
   "metadata": {
    "colab": {
     "base_uri": "https://localhost:8080/"
    },
    "id": "XbbyTOlhc2_B",
    "outputId": "5e08f2f5-9413-4e03-b1e0-c8d010c7231b"
   },
   "outputs": [
    {
     "name": "stdout",
     "output_type": "stream",
     "text": [
      "Cloning into 'generation-trajectory'...\n",
      "remote: Enumerating objects: 43, done.\u001b[K\n",
      "remote: Counting objects: 100% (43/43), done.\u001b[K\n",
      "remote: Compressing objects: 100% (32/32), done.\u001b[K\n",
      "remote: Total 43 (delta 16), reused 34 (delta 9), pack-reused 0\u001b[K\n",
      "Unpacking objects: 100% (43/43), done.\n"
     ]
    }
   ],
   "source": [
    "!git clone https://github.com/ContextLab/generation-trajectory.git"
   ]
  },
  {
   "cell_type": "code",
   "execution_count": null,
   "metadata": {
    "colab": {
     "base_uri": "https://localhost:8080/",
     "height": 1000
    },
    "id": "cgdW6fc5c6cD",
    "outputId": "78180d45-d17a-47a8-da88-9bbc53d545d6"
   },
   "outputs": [
    {
     "name": "stdout",
     "output_type": "stream",
     "text": [
      "Collecting pydata-wrangler\n",
      "  Downloading pydata_wrangler-0.1.7-py2.py3-none-any.whl (28 kB)\n",
      "Collecting konoha==4.6.5\n",
      "  Downloading konoha-4.6.5-py3-none-any.whl (20 kB)\n",
      "Collecting flair~=0.8.0.post1\n",
      "  Downloading flair-0.8.0.post1-py3-none-any.whl (284 kB)\n",
      "\u001b[K     |████████████████████████████████| 284 kB 4.8 MB/s \n",
      "\u001b[?25hCollecting requests~=2.26.0\n",
      "  Downloading requests-2.26.0-py2.py3-none-any.whl (62 kB)\n",
      "\u001b[K     |████████████████████████████████| 62 kB 776 kB/s \n",
      "\u001b[?25hRequirement already satisfied: scipy in /usr/local/lib/python3.7/dist-packages (from pydata-wrangler) (1.4.1)\n",
      "Collecting pytorch-pretrained-bert~=0.6.2\n",
      "  Downloading pytorch_pretrained_bert-0.6.2-py3-none-any.whl (123 kB)\n",
      "\u001b[K     |████████████████████████████████| 123 kB 52.7 MB/s \n",
      "\u001b[?25hCollecting scikit-learn~=0.24.2\n",
      "  Downloading scikit_learn-0.24.2-cp37-cp37m-manylinux2010_x86_64.whl (22.3 MB)\n",
      "\u001b[K     |████████████████████████████████| 22.3 MB 1.2 MB/s \n",
      "\u001b[?25hCollecting transformers~=4.8.2\n",
      "  Downloading transformers-4.8.2-py3-none-any.whl (2.5 MB)\n",
      "\u001b[K     |████████████████████████████████| 2.5 MB 58.4 MB/s \n",
      "\u001b[?25hRequirement already satisfied: pandas in /usr/local/lib/python3.7/dist-packages (from pydata-wrangler) (1.1.5)\n",
      "Collecting tqdm~=4.49.0\n",
      "  Downloading tqdm-4.49.0-py2.py3-none-any.whl (69 kB)\n",
      "\u001b[K     |████████████████████████████████| 69 kB 7.8 MB/s \n",
      "\u001b[?25hCollecting datawrangler>=0.1.0\n",
      "  Downloading DataWrangler-0.2.tar.gz (53 kB)\n",
      "\u001b[K     |████████████████████████████████| 53 kB 1.8 MB/s \n",
      "\u001b[?25hCollecting pytorch-transformers~=1.1.0\n",
      "  Downloading pytorch_transformers-1.1.0-py3-none-any.whl (158 kB)\n",
      "\u001b[K     |████████████████████████████████| 158 kB 45.9 MB/s \n",
      "\u001b[?25hCollecting matplotlib~=3.3.4\n",
      "  Downloading matplotlib-3.3.4-cp37-cp37m-manylinux1_x86_64.whl (11.5 MB)\n",
      "\u001b[K     |████████████████████████████████| 11.5 MB 43.8 MB/s \n",
      "\u001b[?25hRequirement already satisfied: setuptools>=49.6.0 in /usr/local/lib/python3.7/dist-packages (from pydata-wrangler) (57.4.0)\n",
      "Collecting importlib-metadata==3.10.1\n",
      "  Downloading importlib_metadata-3.10.1-py3-none-any.whl (14 kB)\n",
      "Requirement already satisfied: Pillow in /usr/local/lib/python3.7/dist-packages (from pydata-wrangler) (7.1.2)\n",
      "Requirement already satisfied: dill~=0.3.4 in /usr/local/lib/python3.7/dist-packages (from pydata-wrangler) (0.3.4)\n",
      "Collecting configparser~=5.0.2\n",
      "  Downloading configparser-5.0.2-py3-none-any.whl (19 kB)\n",
      "Collecting sentence-transformers~=2.0.0\n",
      "  Downloading sentence-transformers-2.0.0.tar.gz (85 kB)\n",
      "\u001b[K     |████████████████████████████████| 85 kB 3.2 MB/s \n",
      "\u001b[?25hCollecting torchvision~=0.8.2\n",
      "  Downloading torchvision-0.8.2-cp37-cp37m-manylinux1_x86_64.whl (12.8 MB)\n",
      "\u001b[K     |████████████████████████████████| 12.8 MB 24 kB/s \n",
      "\u001b[?25hCollecting tokenizers~=0.10.3\n",
      "  Downloading tokenizers-0.10.3-cp37-cp37m-manylinux_2_5_x86_64.manylinux1_x86_64.manylinux_2_12_x86_64.manylinux2010_x86_64.whl (3.3 MB)\n",
      "\u001b[K     |████████████████████████████████| 3.3 MB 47.0 MB/s \n",
      "\u001b[?25hRequirement already satisfied: numpy~=1.19.5 in /usr/local/lib/python3.7/dist-packages (from pydata-wrangler) (1.19.5)\n",
      "Requirement already satisfied: six~=1.15.0 in /usr/local/lib/python3.7/dist-packages (from pydata-wrangler) (1.15.0)\n",
      "Collecting datasets~=1.8.0\n",
      "  Downloading datasets-1.8.0-py3-none-any.whl (237 kB)\n",
      "\u001b[K     |████████████████████████████████| 237 kB 63.6 MB/s \n",
      "\u001b[?25hCollecting torch~=1.7.1\n",
      "  Downloading torch-1.7.1-cp37-cp37m-manylinux1_x86_64.whl (776.8 MB)\n",
      "\u001b[K     |████████████████████████████████| 776.8 MB 17 kB/s \n",
      "\u001b[?25hCollecting sentencepiece==0.1.95\n",
      "  Downloading sentencepiece-0.1.95-cp37-cp37m-manylinux2014_x86_64.whl (1.2 MB)\n",
      "\u001b[K     |████████████████████████████████| 1.2 MB 55.5 MB/s \n",
      "\u001b[?25hRequirement already satisfied: zipp>=0.5 in /usr/local/lib/python3.7/dist-packages (from importlib-metadata==3.10.1->pydata-wrangler) (3.6.0)\n",
      "Requirement already satisfied: typing-extensions>=3.6.4 in /usr/local/lib/python3.7/dist-packages (from importlib-metadata==3.10.1->pydata-wrangler) (3.7.4.3)\n",
      "Collecting overrides<4.0.0,>=3.0.0\n",
      "  Downloading overrides-3.1.0.tar.gz (11 kB)\n",
      "Requirement already satisfied: pyarrow<4.0.0,>=1.0.0 in /usr/local/lib/python3.7/dist-packages (from datasets~=1.8.0->pydata-wrangler) (3.0.0)\n",
      "Collecting huggingface-hub<0.1.0\n",
      "  Downloading huggingface_hub-0.0.19-py3-none-any.whl (56 kB)\n",
      "\u001b[K     |████████████████████████████████| 56 kB 4.2 MB/s \n",
      "\u001b[?25hCollecting fsspec\n",
      "  Downloading fsspec-2021.10.1-py3-none-any.whl (125 kB)\n",
      "\u001b[K     |████████████████████████████████| 125 kB 55.6 MB/s \n",
      "\u001b[?25hRequirement already satisfied: packaging in /usr/local/lib/python3.7/dist-packages (from datasets~=1.8.0->pydata-wrangler) (21.0)\n",
      "Collecting xxhash\n",
      "  Downloading xxhash-2.0.2-cp37-cp37m-manylinux2010_x86_64.whl (243 kB)\n",
      "\u001b[K     |████████████████████████████████| 243 kB 59.5 MB/s \n",
      "\u001b[?25hRequirement already satisfied: multiprocess in /usr/local/lib/python3.7/dist-packages (from datasets~=1.8.0->pydata-wrangler) (0.70.12.2)\n",
      "Collecting bpemb>=0.3.2\n",
      "  Downloading bpemb-0.3.3-py3-none-any.whl (19 kB)\n",
      "Collecting sqlitedict>=1.6.0\n",
      "  Downloading sqlitedict-1.7.0.tar.gz (28 kB)\n",
      "Requirement already satisfied: regex in /usr/local/lib/python3.7/dist-packages (from flair~=0.8.0.post1->pydata-wrangler) (2019.12.20)\n",
      "Requirement already satisfied: lxml in /usr/local/lib/python3.7/dist-packages (from flair~=0.8.0.post1->pydata-wrangler) (4.2.6)\n",
      "Collecting gdown==3.12.2\n",
      "  Downloading gdown-3.12.2.tar.gz (8.2 kB)\n",
      "  Installing build dependencies ... \u001b[?25l\u001b[?25hdone\n",
      "  Getting requirements to build wheel ... \u001b[?25l\u001b[?25hdone\n",
      "    Preparing wheel metadata ... \u001b[?25l\u001b[?25hdone\n",
      "Collecting ftfy\n",
      "  Downloading ftfy-6.0.3.tar.gz (64 kB)\n",
      "\u001b[K     |████████████████████████████████| 64 kB 2.5 MB/s \n",
      "\u001b[?25hRequirement already satisfied: tabulate in /usr/local/lib/python3.7/dist-packages (from flair~=0.8.0.post1->pydata-wrangler) (0.8.9)\n",
      "Collecting deprecated>=1.2.4\n",
      "  Downloading Deprecated-1.2.13-py2.py3-none-any.whl (9.6 kB)\n",
      "Requirement already satisfied: hyperopt>=0.1.1 in /usr/local/lib/python3.7/dist-packages (from flair~=0.8.0.post1->pydata-wrangler) (0.1.2)\n",
      "Collecting janome\n",
      "  Downloading Janome-0.4.1-py2.py3-none-any.whl (19.7 MB)\n",
      "\u001b[K     |████████████████████████████████| 19.7 MB 1.3 MB/s \n",
      "\u001b[?25hCollecting langdetect\n",
      "  Downloading langdetect-1.0.9.tar.gz (981 kB)\n",
      "\u001b[K     |████████████████████████████████| 981 kB 47.6 MB/s \n",
      "\u001b[?25hRequirement already satisfied: python-dateutil>=2.6.1 in /usr/local/lib/python3.7/dist-packages (from flair~=0.8.0.post1->pydata-wrangler) (2.8.2)\n",
      "Collecting segtok>=1.5.7\n",
      "  Downloading segtok-1.5.10.tar.gz (25 kB)\n",
      "Collecting mpld3==0.3\n",
      "  Downloading mpld3-0.3.tar.gz (788 kB)\n",
      "\u001b[K     |████████████████████████████████| 788 kB 62.2 MB/s \n",
      "\u001b[?25hRequirement already satisfied: gensim<=3.8.3,>=3.4.0 in /usr/local/lib/python3.7/dist-packages (from flair~=0.8.0.post1->pydata-wrangler) (3.6.0)\n",
      "Requirement already satisfied: requests[socks] in /usr/local/lib/python3.7/dist-packages (from gdown==3.12.2->flair~=0.8.0.post1->pydata-wrangler) (2.23.0)\n",
      "Requirement already satisfied: filelock in /usr/local/lib/python3.7/dist-packages (from gdown==3.12.2->flair~=0.8.0.post1->pydata-wrangler) (3.3.0)\n",
      "Requirement already satisfied: wrapt<2,>=1.10 in /usr/local/lib/python3.7/dist-packages (from deprecated>=1.2.4->flair~=0.8.0.post1->pydata-wrangler) (1.12.1)\n",
      "Requirement already satisfied: smart-open>=1.2.1 in /usr/local/lib/python3.7/dist-packages (from gensim<=3.8.3,>=3.4.0->flair~=0.8.0.post1->pydata-wrangler) (5.2.1)\n",
      "Requirement already satisfied: pyyaml in /usr/local/lib/python3.7/dist-packages (from huggingface-hub<0.1.0->datasets~=1.8.0->pydata-wrangler) (3.13)\n",
      "Requirement already satisfied: pymongo in /usr/local/lib/python3.7/dist-packages (from hyperopt>=0.1.1->flair~=0.8.0.post1->pydata-wrangler) (3.12.0)\n",
      "Requirement already satisfied: future in /usr/local/lib/python3.7/dist-packages (from hyperopt>=0.1.1->flair~=0.8.0.post1->pydata-wrangler) (0.16.0)\n",
      "Requirement already satisfied: networkx in /usr/local/lib/python3.7/dist-packages (from hyperopt>=0.1.1->flair~=0.8.0.post1->pydata-wrangler) (2.6.3)\n",
      "Requirement already satisfied: pyparsing!=2.0.4,!=2.1.2,!=2.1.6,>=2.0.3 in /usr/local/lib/python3.7/dist-packages (from matplotlib~=3.3.4->pydata-wrangler) (2.4.7)\n",
      "Requirement already satisfied: kiwisolver>=1.0.1 in /usr/local/lib/python3.7/dist-packages (from matplotlib~=3.3.4->pydata-wrangler) (1.3.2)\n",
      "Requirement already satisfied: cycler>=0.10 in /usr/local/lib/python3.7/dist-packages (from matplotlib~=3.3.4->pydata-wrangler) (0.10.0)\n",
      "Collecting boto3\n",
      "  Downloading boto3-1.19.9-py3-none-any.whl (131 kB)\n",
      "\u001b[K     |████████████████████████████████| 131 kB 58.2 MB/s \n",
      "\u001b[?25hRequirement already satisfied: charset-normalizer~=2.0.0 in /usr/local/lib/python3.7/dist-packages (from requests~=2.26.0->pydata-wrangler) (2.0.7)\n",
      "Requirement already satisfied: certifi>=2017.4.17 in /usr/local/lib/python3.7/dist-packages (from requests~=2.26.0->pydata-wrangler) (2021.5.30)\n",
      "Requirement already satisfied: urllib3<1.27,>=1.21.1 in /usr/local/lib/python3.7/dist-packages (from requests~=2.26.0->pydata-wrangler) (1.24.3)\n",
      "Requirement already satisfied: idna<4,>=2.5 in /usr/local/lib/python3.7/dist-packages (from requests~=2.26.0->pydata-wrangler) (2.10)\n",
      "Collecting threadpoolctl>=2.0.0\n",
      "  Downloading threadpoolctl-3.0.0-py3-none-any.whl (14 kB)\n",
      "Requirement already satisfied: joblib>=0.11 in /usr/local/lib/python3.7/dist-packages (from scikit-learn~=0.24.2->pydata-wrangler) (1.0.1)\n",
      "Requirement already satisfied: nltk in /usr/local/lib/python3.7/dist-packages (from sentence-transformers~=2.0.0->pydata-wrangler) (3.2.5)\n",
      "Collecting huggingface-hub<0.1.0\n",
      "  Downloading huggingface_hub-0.0.12-py3-none-any.whl (37 kB)\n",
      "Collecting sacremoses\n",
      "  Downloading sacremoses-0.0.46-py3-none-any.whl (895 kB)\n",
      "\u001b[K     |████████████████████████████████| 895 kB 71.4 MB/s \n",
      "\u001b[?25hCollecting jmespath<1.0.0,>=0.7.1\n",
      "  Downloading jmespath-0.10.0-py2.py3-none-any.whl (24 kB)\n",
      "Collecting s3transfer<0.6.0,>=0.5.0\n",
      "  Downloading s3transfer-0.5.0-py3-none-any.whl (79 kB)\n",
      "\u001b[K     |████████████████████████████████| 79 kB 8.7 MB/s \n",
      "\u001b[?25hCollecting botocore<1.23.0,>=1.22.9\n",
      "  Downloading botocore-1.22.9-py3-none-any.whl (8.1 MB)\n",
      "\u001b[K     |████████████████████████████████| 8.1 MB 41.3 MB/s \n",
      "\u001b[?25hCollecting urllib3<1.27,>=1.21.1\n",
      "  Downloading urllib3-1.26.7-py2.py3-none-any.whl (138 kB)\n",
      "\u001b[K     |████████████████████████████████| 138 kB 66.5 MB/s \n",
      "\u001b[?25hRequirement already satisfied: wcwidth in /usr/local/lib/python3.7/dist-packages (from ftfy->flair~=0.8.0.post1->pydata-wrangler) (0.2.5)\n",
      "Requirement already satisfied: pytz>=2017.2 in /usr/local/lib/python3.7/dist-packages (from pandas->pydata-wrangler) (2018.9)\n",
      "Requirement already satisfied: PySocks!=1.5.7,>=1.5.6 in /usr/local/lib/python3.7/dist-packages (from requests~=2.26.0->pydata-wrangler) (1.7.1)\n",
      "Requirement already satisfied: click in /usr/local/lib/python3.7/dist-packages (from sacremoses->transformers~=4.8.2->pydata-wrangler) (7.1.2)\n",
      "Building wheels for collected packages: datawrangler, gdown, mpld3, overrides, segtok, sentence-transformers, sqlitedict, ftfy, langdetect\n",
      "  Building wheel for datawrangler (setup.py) ... \u001b[?25l\u001b[?25hdone\n",
      "  Created wheel for datawrangler: filename=DataWrangler-0.2-py3-none-any.whl size=11755 sha256=1dd2718fd26a6150c187259c236822f5e46a0ec110199ca1d06ace20eb322b58\n",
      "  Stored in directory: /root/.cache/pip/wheels/c9/59/2b/9dfd12fca2c1e2ff67e55d0545c804abde37ef9b31ae5872b3\n",
      "  Building wheel for gdown (PEP 517) ... \u001b[?25l\u001b[?25hdone\n",
      "  Created wheel for gdown: filename=gdown-3.12.2-py3-none-any.whl size=9704 sha256=0fe11092d147f15bd01bdf047bc7da8af4a9c0743b271421aa6c45f20ac586d1\n",
      "  Stored in directory: /root/.cache/pip/wheels/ba/e0/7e/726e872a53f7358b4b96a9975b04e98113b005cd8609a63abc\n",
      "  Building wheel for mpld3 (setup.py) ... \u001b[?25l\u001b[?25hdone\n",
      "  Created wheel for mpld3: filename=mpld3-0.3-py3-none-any.whl size=116702 sha256=57b37027811b80ed670e4024f282395132a2092dbb257c789429bb3f2bfcef71\n",
      "  Stored in directory: /root/.cache/pip/wheels/26/70/6a/1c79e59951a41b4045497da187b2724f5659ca64033cf4548e\n",
      "  Building wheel for overrides (setup.py) ... \u001b[?25l\u001b[?25hdone\n",
      "  Created wheel for overrides: filename=overrides-3.1.0-py3-none-any.whl size=10186 sha256=6e28ddd66f3fdfc4867b18562ae10ae44c669b85144cfca181414d28849b1a24\n",
      "  Stored in directory: /root/.cache/pip/wheels/3a/0d/38/01a9bc6e20dcfaf0a6a7b552d03137558ba1c38aea47644682\n",
      "  Building wheel for segtok (setup.py) ... \u001b[?25l\u001b[?25hdone\n",
      "  Created wheel for segtok: filename=segtok-1.5.10-py3-none-any.whl size=25030 sha256=b4579afda046d216f9bb2068e91ed4be3419088fc783bd61fd456615fc6763ac\n",
      "  Stored in directory: /root/.cache/pip/wheels/67/b7/d0/a121106e61339eee5ed083bc230b1c8dc422c49a5a28c2addd\n",
      "  Building wheel for sentence-transformers (setup.py) ... \u001b[?25l\u001b[?25hdone\n",
      "  Created wheel for sentence-transformers: filename=sentence_transformers-2.0.0-py3-none-any.whl size=126710 sha256=c2818d8f4ec315a192285ee7f98312420aa459955eb1b7a02eff29fd23066c36\n",
      "  Stored in directory: /root/.cache/pip/wheels/d1/c1/0f/faafd427f705c4b012274ba60d9a91d75830306811e1355293\n",
      "  Building wheel for sqlitedict (setup.py) ... \u001b[?25l\u001b[?25hdone\n",
      "  Created wheel for sqlitedict: filename=sqlitedict-1.7.0-py3-none-any.whl size=14392 sha256=1234e0cfac533c5e4f8d48a54c37edbe0684a7fb32d4e1a3bf0af5fea0bde0a0\n",
      "  Stored in directory: /root/.cache/pip/wheels/af/94/06/18c0e83e9e227da8f3582810b51f319bbfd181e508676a56c8\n",
      "  Building wheel for ftfy (setup.py) ... \u001b[?25l\u001b[?25hdone\n",
      "  Created wheel for ftfy: filename=ftfy-6.0.3-py3-none-any.whl size=41933 sha256=07c86e45efbf1bd43b13a141d2e0b329f6de0a09e9049aefadb843d323bd2f4a\n",
      "  Stored in directory: /root/.cache/pip/wheels/19/f5/38/273eb3b5e76dfd850619312f693716ac4518b498f5ffb6f56d\n",
      "  Building wheel for langdetect (setup.py) ... \u001b[?25l\u001b[?25hdone\n",
      "  Created wheel for langdetect: filename=langdetect-1.0.9-py3-none-any.whl size=993242 sha256=d990341e4e6fbe953402ab54f6a67da356356d647b5d76b55c727c43494895f4\n",
      "  Stored in directory: /root/.cache/pip/wheels/c5/96/8a/f90c59ed25d75e50a8c10a1b1c2d4c402e4dacfa87f3aff36a\n",
      "Successfully built datawrangler gdown mpld3 overrides segtok sentence-transformers sqlitedict ftfy langdetect\n",
      "Installing collected packages: urllib3, jmespath, tqdm, requests, importlib-metadata, botocore, torch, tokenizers, threadpoolctl, sentencepiece, sacremoses, s3transfer, overrides, huggingface-hub, xxhash, transformers, torchvision, sqlitedict, segtok, scikit-learn, mpld3, matplotlib, langdetect, konoha, janome, gdown, ftfy, fsspec, deprecated, bpemb, boto3, sentence-transformers, pytorch-transformers, pytorch-pretrained-bert, flair, datawrangler, datasets, configparser, pydata-wrangler\n",
      "  Attempting uninstall: urllib3\n",
      "    Found existing installation: urllib3 1.24.3\n",
      "    Uninstalling urllib3-1.24.3:\n",
      "      Successfully uninstalled urllib3-1.24.3\n",
      "  Attempting uninstall: tqdm\n",
      "    Found existing installation: tqdm 4.62.3\n",
      "    Uninstalling tqdm-4.62.3:\n",
      "      Successfully uninstalled tqdm-4.62.3\n",
      "  Attempting uninstall: requests\n",
      "    Found existing installation: requests 2.23.0\n",
      "    Uninstalling requests-2.23.0:\n",
      "      Successfully uninstalled requests-2.23.0\n",
      "  Attempting uninstall: importlib-metadata\n",
      "    Found existing installation: importlib-metadata 4.8.1\n",
      "    Uninstalling importlib-metadata-4.8.1:\n",
      "      Successfully uninstalled importlib-metadata-4.8.1\n",
      "  Attempting uninstall: torch\n",
      "    Found existing installation: torch 1.9.0+cu111\n",
      "    Uninstalling torch-1.9.0+cu111:\n",
      "      Successfully uninstalled torch-1.9.0+cu111\n",
      "  Attempting uninstall: torchvision\n",
      "    Found existing installation: torchvision 0.10.0+cu111\n",
      "    Uninstalling torchvision-0.10.0+cu111:\n",
      "      Successfully uninstalled torchvision-0.10.0+cu111\n",
      "  Attempting uninstall: scikit-learn\n",
      "    Found existing installation: scikit-learn 0.22.2.post1\n",
      "    Uninstalling scikit-learn-0.22.2.post1:\n",
      "      Successfully uninstalled scikit-learn-0.22.2.post1\n",
      "  Attempting uninstall: matplotlib\n",
      "    Found existing installation: matplotlib 3.2.2\n",
      "    Uninstalling matplotlib-3.2.2:\n",
      "      Successfully uninstalled matplotlib-3.2.2\n",
      "  Attempting uninstall: gdown\n",
      "    Found existing installation: gdown 3.6.4\n",
      "    Uninstalling gdown-3.6.4:\n",
      "      Successfully uninstalled gdown-3.6.4\n",
      "\u001b[31mERROR: pip's dependency resolver does not currently take into account all the packages that are installed. This behaviour is the source of the following dependency conflicts.\n",
      "torchtext 0.10.0 requires torch==1.9.0, but you have torch 1.7.1 which is incompatible.\n",
      "hypertools 0.7.0 requires scikit-learn!=0.22,<0.24,>=0.19.1, but you have scikit-learn 0.24.2 which is incompatible.\n",
      "google-colab 1.0.0 requires requests~=2.23.0, but you have requests 2.26.0 which is incompatible.\n",
      "datascience 0.10.6 requires folium==0.2.1, but you have folium 0.8.3 which is incompatible.\n",
      "albumentations 0.1.12 requires imgaug<0.2.7,>=0.2.5, but you have imgaug 0.2.9 which is incompatible.\u001b[0m\n",
      "Successfully installed boto3-1.19.9 botocore-1.22.9 bpemb-0.3.3 configparser-5.0.2 datasets-1.8.0 datawrangler-0.2 deprecated-1.2.13 flair-0.8.0.post1 fsspec-2021.10.1 ftfy-6.0.3 gdown-3.12.2 huggingface-hub-0.0.12 importlib-metadata-3.10.1 janome-0.4.1 jmespath-0.10.0 konoha-4.6.5 langdetect-1.0.9 matplotlib-3.3.4 mpld3-0.3 overrides-3.1.0 pydata-wrangler-0.1.7 pytorch-pretrained-bert-0.6.2 pytorch-transformers-1.1.0 requests-2.26.0 s3transfer-0.5.0 sacremoses-0.0.46 scikit-learn-0.24.2 segtok-1.5.10 sentence-transformers-2.0.0 sentencepiece-0.1.95 sqlitedict-1.7.0 threadpoolctl-3.0.0 tokenizers-0.10.3 torch-1.7.1 torchvision-0.8.2 tqdm-4.49.0 transformers-4.8.2 urllib3-1.26.7 xxhash-2.0.2\n"
     ]
    },
    {
     "data": {
      "application/vnd.colab-display-data+json": {
       "pip_warning": {
        "packages": [
         "configparser",
         "matplotlib",
         "mpl_toolkits",
         "requests",
         "sklearn",
         "tqdm",
         "urllib3"
        ]
       }
      }
     },
     "metadata": {},
     "output_type": "display_data"
    }
   ],
   "source": [
    "!pip install pydata-wrangler"
   ]
  },
  {
   "cell_type": "code",
   "execution_count": null,
   "metadata": {
    "id": "adq2iyl5c74T"
   },
   "outputs": [],
   "source": [
    "import datawrangler as dw"
   ]
  },
  {
   "cell_type": "code",
   "execution_count": null,
   "metadata": {
    "id": "YLS5jrMAc9wj"
   },
   "outputs": [],
   "source": [
    "import pandas as pd \n",
    "import numpy as np \n",
    "import re\n",
    "\n",
    "df = pd.read_csv('https://raw.githubusercontent.com/gokulsrin/PossibilityGeneration/main/Full/IndDiffGenerationFull.csv')"
   ]
  },
  {
   "cell_type": "code",
   "execution_count": null,
   "metadata": {
    "id": "bQXedk8RlCyX"
   },
   "outputs": [],
   "source": [
    "#Trying to group by vignette, so we can try and do some embedding analysis on just those results\n",
    "# I think here I am just going to test using one vignette \n",
    "\n",
    "sample_size = 130\n",
    "sample = set()\n",
    "#find all of the people we will use for the analysis\n",
    "g = df.groupby('completionCode')\n",
    "for id, group in g:\n",
    "  if len(sample) >= sample_size:\n",
    "    break\n",
    "  sample.add(id)\n",
    "#vignettes[i] stores the answers of the 20 individuals selected above for that particular vignette \n",
    "#vignetteids[i] stores the id of the individual corresponding to vignettes[i]\n",
    "g = df.groupby(\"pageName\")\n",
    "vignettes = []\n",
    "vignetteids = []\n",
    "for vignName, group1 in g:\n",
    "  #take each vignette and only look \n",
    "  q = group1.groupby(\"completionCode\")\n",
    "  vignettes.append([])\n",
    "  vignetteids.append([])\n",
    "  #get all of the \n",
    "  for id, group2 in q:\n",
    "    if id in sample:\n",
    "        for entry in group2.iloc[0:6, 16]:\n",
    "          vignettes[-1].append(entry)\n",
    "        for j in range(6):\n",
    "          vignetteids[-1].append(id)"
   ]
  },
  {
   "cell_type": "code",
   "execution_count": null,
   "metadata": {
    "colab": {
     "base_uri": "https://localhost:8080/"
    },
    "id": "ignrtxJySLcd",
    "outputId": "1620262c-6c73-43ee-d5a9-b961a44c725b"
   },
   "outputs": [
    {
     "data": {
      "text/plain": [
       "780"
      ]
     },
     "execution_count": 20,
     "metadata": {},
     "output_type": "execute_result"
    }
   ],
   "source": [
    "len(vignettes[3])"
   ]
  },
  {
   "cell_type": "code",
   "execution_count": null,
   "metadata": {
    "id": "ARPHw7mbKdx6"
   },
   "outputs": [],
   "source": [
    "# this will map an individual to a dictionary. This dictionary will map their sentiment difference score to some particular vignette\n",
    "#Please note: vignettes[0&1] will correspond to BDI/BAI responses\n",
    "# took 42 minutes to run when N = 130...\n",
    "nscores = {}\n",
    "#third vign \n",
    "nscores[3] = {}\n",
    "gpt2 = {'model': 'TransformerDocumentEmbeddings', 'args': ['gpt2'], 'kwargs': {}}\n",
    "embeddings = dw.wrangle(vignettes[3], text_kwargs={'model': gpt2})\n",
    "\n"
   ]
  },
  {
   "cell_type": "code",
   "execution_count": null,
   "metadata": {
    "id": "97pq2T-3P5Yc"
   },
   "outputs": [],
   "source": [
    "def dist(r1, r2):\n",
    "  #literally just sqrt(sum(i = 0 -> n, (r1[i] - r2[i])^2)), or the euclidian distance between these two embedding vectors\n",
    "  s = 0\n",
    "  for i in range(len(r1)):\n",
    "    s += (r1[i] - r2[i])**2\n",
    "  return s**.5\n",
    "\n",
    "for k in range(len(vignettes[3])//6):\n",
    "  #this loop here corresponds to each participants 6 possibilities for this vignette\n",
    "  id = vignetteids[3][6*k]\n",
    "  print(id)\n",
    "  s = 0\n",
    "  for i in range(6*k, 6*(k+1)):\n",
    "   for j in range(i+1, 6*(k+1)):\n",
    "    #  print(dist(embeddings[i], embeddings[j]))\n",
    "     s += dist(embeddings[i], embeddings[j]) \n",
    "  nscores.get(3)[id] = s\n"
   ]
  },
  {
   "cell_type": "code",
   "execution_count": null,
   "metadata": {
    "colab": {
     "base_uri": "https://localhost:8080/",
     "height": 313
    },
    "id": "miQnh11Z4jLx",
    "outputId": "c128f785-2717-414d-82dc-880f9b728424"
   },
   "outputs": [
    {
     "data": {
      "image/png": "[encoded data removed]",
      "text/plain": [
       "<Figure size 432x288 with 1 Axes>"
      ]
     },
     "metadata": {
      "needs_background": "light"
     },
     "output_type": "display_data"
    },
    {
     "name": "stdout",
     "output_type": "stream",
     "text": [
      "r-value:-0.142595\n",
      "p-value:0.106951\n"
     ]
    }
   ],
   "source": [
    "import matplotlib.pyplot as plt\n",
    "import numpy as np \n",
    "from scipy import stats\n",
    "\n",
    "distances = []\n",
    "beck = []\n",
    "for id in nscores.get(3):\n",
    "  if not np.isnan(nscores.get(3).get(id)[0]):\n",
    "    distances.append(nscores.get(3).get(id)[0])\n",
    "    beck.append(scores.get(id).get('beck'))\n",
    "\n",
    "x = np.array(beck)\n",
    "y = np.array(distances)\n",
    "\n",
    "plt.scatter(x, y)\n",
    "plt.xlabel(\"Beck\")\n",
    "plt.ylabel(\"Exploration\")\n",
    "\n",
    "slope, intercept, r_value, p_value, std_err = stats.linregress(x,y)\n",
    "predict_y = intercept + slope * x\n",
    "\n",
    "plt.plot(x,y,'ro')\n",
    "plt.plot(x, predict_y, 'k-')\n",
    "plt.autoscale(True)\n",
    "plt.grid(True)\n",
    "plt.show()\n",
    "\n",
    "print(\"r-value:%f\" % r_value)\n",
    "print(\"p-value:%f\" % p_value)"
   ]
  },
  {
   "cell_type": "code",
   "execution_count": null,
   "metadata": {
    "id": "jmnE21a6ptU1"
   },
   "outputs": [],
   "source": [
    "#I want to try and construct a sentment relatedness measure here"
   ]
  }
 ],
 "metadata": {
  "colab": {
   "collapsed_sections": [],
   "name": "possibility-generation-tests2.ipynb",
   "provenance": []
  },
  "kernelspec": {
   "display_name": "Python 3 (ipykernel)",
   "language": "python",
   "name": "python3"
  },
  "language_info": {
   "codemirror_mode": {
    "name": "ipython",
    "version": 3
   },
   "file_extension": ".py",
   "mimetype": "text/x-python",
   "name": "python",
   "nbconvert_exporter": "python",
   "pygments_lexer": "ipython3",
   "version": "3.9.5"
  }
 },
 "nbformat": 4,
 "nbformat_minor": 1
}
