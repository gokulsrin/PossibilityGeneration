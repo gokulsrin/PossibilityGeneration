{
 "cells": [
  {
   "cell_type": "code",
   "execution_count": 1,
   "id": "4ff38341",
   "metadata": {},
   "outputs": [],
   "source": [
    "import pandas as pd"
   ]
  },
  {
   "cell_type": "code",
   "execution_count": 6,
   "id": "3d19d342",
   "metadata": {},
   "outputs": [
    {
     "data": {
      "text/html": [
       "<div>\n",
       "<style scoped>\n",
       "    .dataframe tbody tr th:only-of-type {\n",
       "        vertical-align: middle;\n",
       "    }\n",
       "\n",
       "    .dataframe tbody tr th {\n",
       "        vertical-align: top;\n",
       "    }\n",
       "\n",
       "    .dataframe thead th {\n",
       "        text-align: right;\n",
       "    }\n",
       "</style>\n",
       "<table border=\"1\" class=\"dataframe\">\n",
       "  <thead>\n",
       "    <tr style=\"text-align: right;\">\n",
       "      <th></th>\n",
       "      <th>Unnamed: 0</th>\n",
       "      <th>Unnamed: 0.1</th>\n",
       "      <th>Males</th>\n",
       "      <th>Unnamed: 2</th>\n",
       "      <th>Unnamed: 3</th>\n",
       "      <th>Unnamed: 4</th>\n",
       "      <th>Females</th>\n",
       "      <th>Unnamed: 6</th>\n",
       "      <th>Female Height</th>\n",
       "      <th>Male Height</th>\n",
       "    </tr>\n",
       "  </thead>\n",
       "  <tbody>\n",
       "    <tr>\n",
       "      <th>0</th>\n",
       "      <td>0</td>\n",
       "      <td>NaN</td>\n",
       "      <td>6'2''</td>\n",
       "      <td>83.200</td>\n",
       "      <td>83.2</td>\n",
       "      <td>NaN</td>\n",
       "      <td>5'9\"</td>\n",
       "      <td>91.4</td>\n",
       "      <td>69</td>\n",
       "      <td>74</td>\n",
       "    </tr>\n",
       "    <tr>\n",
       "      <th>1</th>\n",
       "      <td>1</td>\n",
       "      <td>NaN</td>\n",
       "      <td>6'1''</td>\n",
       "      <td>83.100</td>\n",
       "      <td>83.1</td>\n",
       "      <td>NaN</td>\n",
       "      <td>5'6\"</td>\n",
       "      <td>90.0</td>\n",
       "      <td>66</td>\n",
       "      <td>73</td>\n",
       "    </tr>\n",
       "    <tr>\n",
       "      <th>2</th>\n",
       "      <td>2</td>\n",
       "      <td>NaN</td>\n",
       "      <td>5'11''</td>\n",
       "      <td>82.400</td>\n",
       "      <td>82.4</td>\n",
       "      <td>NaN</td>\n",
       "      <td>5'9\"</td>\n",
       "      <td>88.7</td>\n",
       "      <td>69</td>\n",
       "      <td>71</td>\n",
       "    </tr>\n",
       "    <tr>\n",
       "      <th>3</th>\n",
       "      <td>3</td>\n",
       "      <td>NaN</td>\n",
       "      <td>6'1''</td>\n",
       "      <td>82.000</td>\n",
       "      <td>82.0</td>\n",
       "      <td>NaN</td>\n",
       "      <td>5'8''</td>\n",
       "      <td>86.8</td>\n",
       "      <td>68</td>\n",
       "      <td>73</td>\n",
       "    </tr>\n",
       "    <tr>\n",
       "      <th>4</th>\n",
       "      <td>4</td>\n",
       "      <td>NaN</td>\n",
       "      <td>5'10''</td>\n",
       "      <td>81.800</td>\n",
       "      <td>81.8</td>\n",
       "      <td>NaN</td>\n",
       "      <td>5'9\"</td>\n",
       "      <td>84.9</td>\n",
       "      <td>69</td>\n",
       "      <td>70</td>\n",
       "    </tr>\n",
       "    <tr>\n",
       "      <th>...</th>\n",
       "      <td>...</td>\n",
       "      <td>...</td>\n",
       "      <td>...</td>\n",
       "      <td>...</td>\n",
       "      <td>...</td>\n",
       "      <td>...</td>\n",
       "      <td>...</td>\n",
       "      <td>...</td>\n",
       "      <td>...</td>\n",
       "      <td>...</td>\n",
       "    </tr>\n",
       "    <tr>\n",
       "      <th>95</th>\n",
       "      <td>95</td>\n",
       "      <td>NaN</td>\n",
       "      <td>6'4\"</td>\n",
       "      <td>0.620</td>\n",
       "      <td>62.0</td>\n",
       "      <td>NaN</td>\n",
       "      <td>5'5\"</td>\n",
       "      <td>53.5</td>\n",
       "      <td>65</td>\n",
       "      <td>76</td>\n",
       "    </tr>\n",
       "    <tr>\n",
       "      <th>96</th>\n",
       "      <td>96</td>\n",
       "      <td>NaN</td>\n",
       "      <td>6'2\"</td>\n",
       "      <td>0.619</td>\n",
       "      <td>61.9</td>\n",
       "      <td>NaN</td>\n",
       "      <td>5'9\"</td>\n",
       "      <td>52.8</td>\n",
       "      <td>69</td>\n",
       "      <td>74</td>\n",
       "    </tr>\n",
       "    <tr>\n",
       "      <th>97</th>\n",
       "      <td>97</td>\n",
       "      <td>NaN</td>\n",
       "      <td>6'4\"</td>\n",
       "      <td>0.618</td>\n",
       "      <td>61.8</td>\n",
       "      <td>NaN</td>\n",
       "      <td>5'6\"</td>\n",
       "      <td>51.9</td>\n",
       "      <td>66</td>\n",
       "      <td>76</td>\n",
       "    </tr>\n",
       "    <tr>\n",
       "      <th>98</th>\n",
       "      <td>98</td>\n",
       "      <td>NaN</td>\n",
       "      <td>6'10\"</td>\n",
       "      <td>0.617</td>\n",
       "      <td>61.7</td>\n",
       "      <td>NaN</td>\n",
       "      <td>5'7\"</td>\n",
       "      <td>51.6</td>\n",
       "      <td>67</td>\n",
       "      <td>82</td>\n",
       "    </tr>\n",
       "    <tr>\n",
       "      <th>99</th>\n",
       "      <td>99</td>\n",
       "      <td>NaN</td>\n",
       "      <td>6'0\"</td>\n",
       "      <td>0.617</td>\n",
       "      <td>61.7</td>\n",
       "      <td>NaN</td>\n",
       "      <td>5'9\"</td>\n",
       "      <td>51.6</td>\n",
       "      <td>69</td>\n",
       "      <td>72</td>\n",
       "    </tr>\n",
       "  </tbody>\n",
       "</table>\n",
       "<p>100 rows × 10 columns</p>\n",
       "</div>"
      ],
      "text/plain": [
       "    Unnamed: 0  Unnamed: 0.1   Males  Unnamed: 2  Unnamed: 3  Unnamed: 4  \\\n",
       "0            0           NaN   6'2''      83.200        83.2         NaN   \n",
       "1            1           NaN   6'1''      83.100        83.1         NaN   \n",
       "2            2           NaN  5'11''      82.400        82.4         NaN   \n",
       "3            3           NaN   6'1''      82.000        82.0         NaN   \n",
       "4            4           NaN  5'10''      81.800        81.8         NaN   \n",
       "..         ...           ...     ...         ...         ...         ...   \n",
       "95          95           NaN    6'4\"       0.620        62.0         NaN   \n",
       "96          96           NaN    6'2\"       0.619        61.9         NaN   \n",
       "97          97           NaN    6'4\"       0.618        61.8         NaN   \n",
       "98          98           NaN   6'10\"       0.617        61.7         NaN   \n",
       "99          99           NaN    6'0\"       0.617        61.7         NaN   \n",
       "\n",
       "   Females  Unnamed: 6  Female Height  Male Height  \n",
       "0     5'9\"        91.4             69           74  \n",
       "1     5'6\"        90.0             66           73  \n",
       "2     5'9\"        88.7             69           71  \n",
       "3    5'8''        86.8             68           73  \n",
       "4     5'9\"        84.9             69           70  \n",
       "..     ...         ...            ...          ...  \n",
       "95    5'5\"        53.5             65           76  \n",
       "96    5'9\"        52.8             69           74  \n",
       "97    5'6\"        51.9             66           76  \n",
       "98    5'7\"        51.6             67           82  \n",
       "99    5'9\"        51.6             69           72  \n",
       "\n",
       "[100 rows x 10 columns]"
      ]
     },
     "execution_count": 6,
     "metadata": {},
     "output_type": "execute_result"
    }
   ],
   "source": [
    "df = pd.read_csv('newdata.csv')\n",
    "df"
   ]
  },
  {
   "cell_type": "code",
   "execution_count": 7,
   "id": "1a8a6c7b",
   "metadata": {},
   "outputs": [],
   "source": [
    "# def convert(s):\n",
    "#     tokens = s.split(\"'\")\n",
    "#     tokens[0] = int(tokens[0]) * 12\n",
    "#     tokens[1] = int(tokens[1].strip('\"'))\n",
    "#     return tokens[0] + tokens[1]"
   ]
  },
  {
   "cell_type": "code",
   "execution_count": 8,
   "id": "afd89841",
   "metadata": {},
   "outputs": [],
   "source": [
    "# convert(df.iloc[0,5]) == 69"
   ]
  },
  {
   "cell_type": "code",
   "execution_count": null,
   "id": "e35fa4ae",
   "metadata": {},
   "outputs": [],
   "source": []
  },
  {
   "cell_type": "code",
   "execution_count": 9,
   "id": "40881132",
   "metadata": {},
   "outputs": [],
   "source": [
    "# l = []\n",
    "# for entry in df['Females']:\n",
    "#     l.append(convert(entry))\n",
    "# df['Female Height'] = l\n",
    "# l = []\n",
    "# for entry in df['Males']:\n",
    "#     l.append(convert(entry))\n",
    "# df['Male Height'] = l"
   ]
  },
  {
   "cell_type": "code",
   "execution_count": 10,
   "id": "32ec4241",
   "metadata": {},
   "outputs": [],
   "source": [
    "# df.to_csv('newdata.csv')"
   ]
  },
  {
   "cell_type": "code",
   "execution_count": 18,
   "id": "9f379348",
   "metadata": {},
   "outputs": [],
   "source": [
    "import matplotlib.pyplot as plt\n",
    "import numpy as np \n"
   ]
  },
  {
   "cell_type": "code",
   "execution_count": 21,
   "id": "675f1164",
   "metadata": {},
   "outputs": [],
   "source": [
    "x = np.array(df['Unnamed: 3'])\n",
    "y = np.array(df['Male Height'])\n"
   ]
  },
  {
   "cell_type": "code",
   "execution_count": 22,
   "id": "61542159",
   "metadata": {},
   "outputs": [
    {
     "data": {
      "text/plain": [
       "<matplotlib.collections.PathCollection at 0x107399490>"
      ]
     },
     "execution_count": 22,
     "metadata": {},
     "output_type": "execute_result"
    },
    {
     "data": {
      "image/png": "[encoded data removed]",
      "text/plain": [
       "<Figure size 432x288 with 1 Axes>"
      ]
     },
     "metadata": {
      "needs_background": "light"
     },
     "output_type": "display_data"
    }
   ],
   "source": [
    "plt.scatter(x,y)\n"
   ]
  },
  {
   "cell_type": "code",
   "execution_count": null,
   "id": "590c1606",
   "metadata": {},
   "outputs": [],
   "source": []
  }
 ],
 "metadata": {
  "kernelspec": {
   "display_name": "Python 3 (ipykernel)",
   "language": "python",
   "name": "python3"
  },
  "language_info": {
   "codemirror_mode": {
    "name": "ipython",
    "version": 3
   },
   "file_extension": ".py",
   "mimetype": "text/x-python",
   "name": "python",
   "nbconvert_exporter": "python",
   "pygments_lexer": "ipython3",
   "version": "3.9.5"
  }
 },
 "nbformat": 4,
 "nbformat_minor": 5
}
